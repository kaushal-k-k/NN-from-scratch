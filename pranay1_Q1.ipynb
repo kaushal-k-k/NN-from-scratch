{
  "nbformat": 4,
  "nbformat_minor": 0,
  "metadata": {
    "colab": {
      "name": "pranay1",
      "provenance": []
    },
    "kernelspec": {
      "name": "python3",
      "display_name": "Python 3"
    }
  },
  "cells": [
    {
      "cell_type": "code",
      "metadata": {
        "id": "17TK1Joi27LD"
      },
      "source": [
        "#Q1\r\n",
        "import numpy as np\r\n",
        "from PIL import Image\r\n",
        "import matplotlib.pyplot as plt \r\n",
        "from keras.datasets import fashion_mnist\r\n",
        "(X_train, Y_train), (X_test, Y_test) = fashion_mnist.load_data()\r\n",
        "names = [\"T-shirt/top\",\"Trouser/pants\",\"Pullover shirt\",\"Dress\",\"Coat\",\"Sandal\",\"Shirt\",\"Sneaker\",\"Bag\",\"Ankle boot\"]\r\n",
        "dummy = []\r\n",
        "for i in range (10):\r\n",
        "  for j in range(len(Y_train)):\r\n",
        "    if int(Y_train[j]) is i:\r\n",
        "      plt.imshow(X_train[j], cmap=\"gray\")\r\n",
        "      dummy.append(X_train[j])\r\n",
        "      plt.show()\r\n",
        "      break \r\n",
        "wandb.log(({\"Q1\":[wandb.Image(i,caption=j) for i,j in zip(dummy,names)]}))"
      ],
      "execution_count": null,
      "outputs": []
    }
  ]
}